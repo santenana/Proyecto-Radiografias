{
 "cells": [
  {
   "cell_type": "code",
   "execution_count": 1,
   "metadata": {},
   "outputs": [],
   "source": [
    "import os\n",
    "import shutil\n",
    "from collections import Counter\n"
   ]
  },
  {
   "cell_type": "code",
   "execution_count": 61,
   "metadata": {},
   "outputs": [],
   "source": [
    "Main_pathn = './MURA-v1.1/train'\n",
    "# Second_Path = os.path.join(Main_pathn, patient)\n",
    "carpetas = os.listdir(Main_pathn)\n",
    "carpetas\n",
    "for _ in range(len(carpetas)):\n",
    "    Second_Path = os.path.join(Main_pathn, carpetas[_])\n",
    "    carpetas2 = os.listdir(Second_Path)\n",
    "    for j in range(len(carpetas2)):\n",
    "        thirnt_Path = os.path.join(Main_pathn, carpetas[_],carpetas2[j])\n",
    "        carpetas3 = os.listdir(thirnt_Path)\n",
    "        for k in range(len(carpetas3)):\n",
    "            fourth_Path = os.path.join(Main_pathn, carpetas[_],carpetas2[j],carpetas3[k])\n",
    "            if fourth_Path.endswith('negative'):\n",
    "                destino = './NO_Fractura'\n",
    "            elif fourth_Path.endswith('positive'):\n",
    "                 destino = './FRACTURA' \n",
    "            for archivo in os.listdir(fourth_Path):\n",
    "                archivo_origen = os.path.join(fourth_Path, archivo)\n",
    "                nombre_base, extension = os.path.splitext(archivo)\n",
    "                nuevo_nombre = f\"{carpetas[_]}_{carpetas2[j]}_{carpetas3[k]}_{nombre_base}{extension}\"\n",
    "                archivo_destino = os.path.join(destino, nuevo_nombre)\n",
    "                shutil.copy(archivo_origen, archivo_destino)\n",
    "            "
   ]
  },
  {
   "cell_type": "code",
   "execution_count": 15,
   "metadata": {},
   "outputs": [
    {
     "name": "stdout",
     "output_type": "stream",
     "text": [
      "SHOULDER: 4168\n",
      "WRIST: 3987\n",
      "FOREARM: 661\n",
      "ELBOW: 2006\n",
      "FINGER: 1968\n",
      "HUMERUS: 599\n",
      "HAND: 1484\n",
      "Total:14873\n"
     ]
    }
   ],
   "source": [
    "ruta_conteo ='./FRACTURA' \n",
    "counter = Counter()\n",
    "total = 0\n",
    "for filename in os.listdir(ruta_conteo):\n",
    "    if filename.endswith(('.png', '.jpg', '.jpeg')):  \n",
    "        prefix = filename.split('_')[1]\n",
    "        counter[prefix] += 1\n",
    "        \n",
    "for label, count in counter.items():\n",
    "    print(f'{label}: {count}')\n",
    "    total += count\n",
    "print(f'Total:{total}')"
   ]
  },
  {
   "cell_type": "code",
   "execution_count": 2,
   "metadata": {},
   "outputs": [
    {
     "name": "stdout",
     "output_type": "stream",
     "text": [
      "SHOULDER: 4211\n",
      "HAND: 4059\n",
      "WRIST: 5765\n",
      "ELBOW: 2925\n",
      "FINGER: 3138\n",
      "FOREARM: 1164\n",
      "HUMERUS: 673\n",
      "Total:21935\n"
     ]
    }
   ],
   "source": [
    "ruta_conteo ='./NO_Fractura' \n",
    "counter = Counter()\n",
    "total = 0\n",
    "for filename in os.listdir(ruta_conteo):\n",
    "    if filename.endswith(('.png', '.jpg', '.jpeg')):  \n",
    "        prefix = filename.split('_')[1]\n",
    "        counter[prefix] += 1\n",
    "for label, count in counter.items():\n",
    "    print(f'{label}: {count}')\n",
    "    total += count\n",
    "print(f'Total:{total}')"
   ]
  },
  {
   "cell_type": "code",
   "execution_count": 10,
   "metadata": {},
   "outputs": [
    {
     "name": "stdout",
     "output_type": "stream",
     "text": [
      "100 archivos copiados para el prefijo XR_SHOULDER\n",
      "100 archivos copiados para el prefijo XR_HAND\n",
      "100 archivos copiados para el prefijo XR_WRIST\n",
      "100 archivos copiados para el prefijo XR_ELBOW\n",
      "100 archivos copiados para el prefijo XR_FINGER\n",
      "100 archivos copiados para el prefijo XR_FOREARM\n",
      "100 archivos copiados para el prefijo XR_HUMERUS\n",
      "Proceso completado.\n"
     ]
    }
   ],
   "source": [
    "# Rutas de las carpetas\n",
    "origen = './FRACTURA'  \n",
    "destino = './Fractura_SI'       \n",
    "\n",
    "prefijos = ['XR_SHOULDER', 'XR_HAND','XR_WRIST',\n",
    "            'XR_ELBOW','XR_FINGER','XR_FOREARM','XR_HUMERUS']\n",
    "num_copiar = 100\n",
    "for prefijo in prefijos:\n",
    "    archivos = [f for f in os.listdir(origen) if f.startswith(prefijo)]\n",
    "    archivos = archivos[:num_copiar]\n",
    "    for archivo in archivos:\n",
    "        ruta_archivo = os.path.join(origen, archivo)\n",
    "        shutil.copy(ruta_archivo, destino)\n",
    "    print(f'{len(archivos)} archivos copiados para el prefijo {prefijo}')\n",
    "print('Proceso completado.')"
   ]
  },
  {
   "cell_type": "code",
   "execution_count": 11,
   "metadata": {},
   "outputs": [
    {
     "name": "stdout",
     "output_type": "stream",
     "text": [
      "15 archivos copiados para el prefijo XR_SHOULDER\n",
      "15 archivos copiados para el prefijo XR_HAND\n",
      "15 archivos copiados para el prefijo XR_WRIST\n",
      "15 archivos copiados para el prefijo XR_ELBOW\n",
      "15 archivos copiados para el prefijo XR_FINGER\n",
      "15 archivos copiados para el prefijo XR_FOREARM\n",
      "15 archivos copiados para el prefijo XR_HUMERUS\n",
      "Proceso completado.\n"
     ]
    }
   ],
   "source": [
    "origen = './NO_Fractura'  \n",
    "destino = './Fractura_NO'       \n",
    "\n",
    "prefijos = ['XR_SHOULDER', 'XR_HAND','XR_WRIST',\n",
    "            'XR_ELBOW','XR_FINGER','XR_FOREARM','XR_HUMERUS']\n",
    "num_copiar = 15\n",
    "for prefijo in prefijos:\n",
    "    archivos = [f for f in os.listdir(origen) if f.startswith(prefijo)]\n",
    "    archivos = archivos[:num_copiar]\n",
    "    for archivo in archivos:\n",
    "        ruta_archivo = os.path.join(origen, archivo)\n",
    "        shutil.copy(ruta_archivo, destino)\n",
    "    print(f'{len(archivos)} archivos copiados para el prefijo {prefijo}')\n",
    "print('Proceso completado.')"
   ]
  },
  {
   "cell_type": "code",
   "execution_count": 21,
   "metadata": {},
   "outputs": [
    {
     "name": "stdout",
     "output_type": "stream",
     "text": [
      "SHOULDER: 100\n",
      "HAND: 100\n",
      "WRIST: 100\n",
      "ELBOW: 100\n",
      "FINGER: 100\n",
      "FOREARM: 100\n",
      "HUMERUS: 100\n",
      "Total:700\n"
     ]
    }
   ],
   "source": [
    "ruta_conteo ='./Fractura_NO' \n",
    "counter = Counter()\n",
    "total = 0\n",
    "for filename in os.listdir(ruta_conteo):\n",
    "    if filename.endswith(('.png', '.jpg', '.jpeg')):  \n",
    "        prefix = filename.split('_')[1]\n",
    "        counter[prefix] += 1\n",
    "for label, count in counter.items():\n",
    "    print(f'{label}: {count}')\n",
    "    total += count\n",
    "print(f'Total:{total}')"
   ]
  }
 ],
 "metadata": {
  "kernelspec": {
   "display_name": "rayos_x",
   "language": "python",
   "name": "python3"
  },
  "language_info": {
   "codemirror_mode": {
    "name": "ipython",
    "version": 3
   },
   "file_extension": ".py",
   "mimetype": "text/x-python",
   "name": "python",
   "nbconvert_exporter": "python",
   "pygments_lexer": "ipython3",
   "version": "3.10.14"
  }
 },
 "nbformat": 4,
 "nbformat_minor": 2
}
